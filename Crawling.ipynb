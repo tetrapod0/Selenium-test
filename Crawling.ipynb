{
 "cells": [
  {
   "cell_type": "markdown",
   "id": "0009559c-cfcd-4944-a5a1-fa4c7a638bdb",
   "metadata": {},
   "source": [
    "### 라이브러리 불러오기"
   ]
  },
  {
   "cell_type": "code",
   "execution_count": 1,
   "id": "9aa798c6-5a79-449d-a4f8-af32600bb90a",
   "metadata": {},
   "outputs": [],
   "source": [
    "from selenium import webdriver\n",
    "from selenium.webdriver.common.keys import Keys\n",
    "from selenium.webdriver.common.by import By\n",
    "from tqdm.auto import tqdm\n",
    "import time"
   ]
  },
  {
   "cell_type": "markdown",
   "id": "ce7a92c9-2043-4a3e-93b9-839f9454c6ee",
   "metadata": {},
   "source": [
    "### 접속 및 불변 요소 가져오기"
   ]
  },
  {
   "cell_type": "code",
   "execution_count": 2,
   "id": "fb7a62d0-2b4d-4438-bf73-0a096e67b0f7",
   "metadata": {},
   "outputs": [],
   "source": [
    "url = \"https://cs.nexon.com/HelpBoard/Nexon?gamecode=18\"\n",
    "driver = webdriver.Chrome()\n",
    "driver.get(url)\n",
    "time.sleep(0.5)\n",
    "\n",
    "view_helplist_btn = driver.find_element(By.CLASS_NAME, 'view_helplist')\n",
    "\n",
    "all_view = driver.find_element(By.CLASS_NAME, \"category_list\")\n",
    "content = driver.find_element(By.CLASS_NAME, \"help_content_list\")\n",
    "page = driver.find_element(By.ID, \"paging\")\n",
    "next_btn = page.find_element(By.ID, \"next\")\n",
    "tot_len_dd = len(all_view.find_elements(By.TAG_NAME, \"dd\"))"
   ]
  },
  {
   "cell_type": "markdown",
   "id": "0e9ee46b-a8e1-4684-b8dd-408b54859037",
   "metadata": {},
   "source": [
    "### 주제 id 가져오기"
   ]
  },
  {
   "cell_type": "code",
   "execution_count": 3,
   "id": "f801b207-6556-45cd-996f-7c508b1130d4",
   "metadata": {},
   "outputs": [],
   "source": [
    "view_helplist_btn.click()\n",
    "\n",
    "path_list = []\n",
    "li_list = all_view.find_elements(By.TAG_NAME, \"li\") # li(strong) - dl(span) - dd(a)\n",
    "for li in li_list:\n",
    "    li_text = li.find_element(By.TAG_NAME, \"strong\").text\n",
    "    dl_list = li.find_elements(By.TAG_NAME, \"dl\")\n",
    "    for dl in dl_list:\n",
    "        dl_text = dl.find_element(By.TAG_NAME, \"span\").text\n",
    "        a_list = dl.find_elements(By.TAG_NAME, \"a\")\n",
    "        for a in a_list:\n",
    "            a_text = a.text\n",
    "            _id = a.get_attribute(\"id\")\n",
    "            path_list.append((li_text, dl_text, a_text, _id))\n",
    "\n",
    "cls_btn = driver.find_element(By.CLASS_NAME, \"close\")\n",
    "cls_btn.click()"
   ]
  },
  {
   "cell_type": "markdown",
   "id": "f3ceb197-1e9d-49c5-aa3c-73486006940f",
   "metadata": {},
   "source": [
    "### 각 주제 게시글 접근하여 제목,내용 가져오기"
   ]
  },
  {
   "cell_type": "code",
   "execution_count": 4,
   "id": "9d470836-038d-432f-a3d6-1e5160d3d353",
   "metadata": {},
   "outputs": [
    {
     "data": {
      "application/vnd.jupyter.widget-view+json": {
       "model_id": "8d7f21d84fe14014acef61ffed75c8dc",
       "version_major": 2,
       "version_minor": 0
      },
      "text/plain": [
       "  0%|          | 0/78 [00:00<?, ?it/s]"
      ]
     },
     "metadata": {},
     "output_type": "display_data"
    }
   ],
   "source": [
    "body_list = []\n",
    "\n",
    "# for path_id in tqdm([path_list[0], path_list[2], path_list[1]]):\n",
    "for path_id in tqdm(path_list[0:]):\n",
    "    # 전체보기\n",
    "    view_helplist_btn.click()\n",
    "\n",
    "    # 하나클릭\n",
    "    _id = path_id[-1]\n",
    "    a_btn = all_view.find_element(By.ID, _id)\n",
    "    a_btn.click()\n",
    "\n",
    "    # 페이지 갯수\n",
    "    hidden = page.find_element(By.CLASS_NAME, \"paging.pagingLi.nexon-hide\")\n",
    "    num_page = int(hidden.get_attribute(\"order\"))\n",
    "\n",
    "    for i in range(1, num_page):\n",
    "        dt_list = content.find_elements(By.TAG_NAME, 'dt')\n",
    "        con_list = content.find_elements(By.CLASS_NAME, 'help_content')\n",
    "        for dt, con in zip(dt_list[1:], con_list[1:]):\n",
    "            title = dt.find_element(By.TAG_NAME, 'span').text\n",
    "            dt.click()\n",
    "            body = con.text\n",
    "            body_list.append((*path_id, f\"page_{i}\", title, body))\n",
    "            dt.click()\n",
    "        \n",
    "        next_btn.click()"
   ]
  },
  {
   "cell_type": "markdown",
   "id": "f46282ef-2cff-4b25-bb29-d1c8e6049778",
   "metadata": {},
   "source": [
    "### dict로 정리"
   ]
  },
  {
   "cell_type": "code",
   "execution_count": 5,
   "id": "277ca1c5-95ee-4577-8a06-f24c04978835",
   "metadata": {},
   "outputs": [],
   "source": [
    "data_dic = {}\n",
    "for body in body_list:\n",
    "    title = body[5]\n",
    "    data_dic[title] = {}\n",
    "    data_dic[title]['body'] = body[6]\n",
    "    data_dic[title]['meta-data'] = ' -> '.join([body[0], body[1], body[2], body[4], ])"
   ]
  },
  {
   "cell_type": "markdown",
   "id": "89ac7fad-8f23-43c8-9886-cb7144a3154f",
   "metadata": {},
   "source": [
    "### json 변환"
   ]
  },
  {
   "cell_type": "code",
   "execution_count": 7,
   "id": "d0c223a3-ad4a-40fa-bfa8-7f2fffb924ed",
   "metadata": {},
   "outputs": [],
   "source": [
    "import json\n",
    "\n",
    "with open('data.json', 'w', encoding='utf-8') as f:\n",
    "    json.dump(data_dic, f, indent=2, ensure_ascii=False)"
   ]
  },
  {
   "cell_type": "code",
   "execution_count": null,
   "id": "98889c3a-b6a7-4545-97b8-6c461958765f",
   "metadata": {},
   "outputs": [],
   "source": []
  },
  {
   "cell_type": "code",
   "execution_count": null,
   "id": "ec945182-6988-4c79-bfdd-582b2e95dd58",
   "metadata": {},
   "outputs": [],
   "source": []
  },
  {
   "cell_type": "code",
   "execution_count": null,
   "id": "0a2a7221-73f1-48cc-870e-3d76e74060a5",
   "metadata": {},
   "outputs": [],
   "source": []
  },
  {
   "cell_type": "code",
   "execution_count": null,
   "id": "01d17d7b-799f-4ee1-9477-2266c2aca464",
   "metadata": {},
   "outputs": [],
   "source": []
  },
  {
   "cell_type": "code",
   "execution_count": null,
   "id": "b06a4ef5-7d7e-4a11-83b4-b753cf192216",
   "metadata": {},
   "outputs": [],
   "source": []
  },
  {
   "cell_type": "code",
   "execution_count": null,
   "id": "b091284c-df0f-48d8-881f-31aa159a35e3",
   "metadata": {},
   "outputs": [],
   "source": []
  },
  {
   "cell_type": "code",
   "execution_count": null,
   "id": "c797348d-4276-4dd2-97c2-670b862f219e",
   "metadata": {},
   "outputs": [],
   "source": []
  },
  {
   "cell_type": "code",
   "execution_count": null,
   "id": "f4893ba1-62a1-4dd9-be7d-1c8a807a431f",
   "metadata": {},
   "outputs": [],
   "source": []
  },
  {
   "cell_type": "code",
   "execution_count": null,
   "id": "2617a32b-72b6-4903-8514-5153c9990ce9",
   "metadata": {},
   "outputs": [],
   "source": []
  },
  {
   "cell_type": "code",
   "execution_count": null,
   "id": "5a82e218-969c-4a28-bbeb-ea79170ea07f",
   "metadata": {},
   "outputs": [],
   "source": []
  },
  {
   "cell_type": "code",
   "execution_count": null,
   "id": "595efe07-45db-4278-8986-ca29b2b9cafc",
   "metadata": {},
   "outputs": [],
   "source": []
  },
  {
   "cell_type": "code",
   "execution_count": null,
   "id": "753290c4-1981-42d0-ab44-978d744adfb5",
   "metadata": {},
   "outputs": [],
   "source": []
  },
  {
   "cell_type": "code",
   "execution_count": null,
   "id": "2c63af0f-aa8d-45db-9dc9-0cb336429114",
   "metadata": {},
   "outputs": [],
   "source": []
  },
  {
   "cell_type": "code",
   "execution_count": null,
   "id": "8a68ab60-7762-40fd-8085-ccbc720090fd",
   "metadata": {},
   "outputs": [],
   "source": []
  },
  {
   "cell_type": "code",
   "execution_count": null,
   "id": "1ee9fa2a-982b-4335-a838-d3c9af551767",
   "metadata": {},
   "outputs": [],
   "source": []
  },
  {
   "cell_type": "code",
   "execution_count": null,
   "id": "c6abbbf6-f204-4dd8-993d-54b228b8a17a",
   "metadata": {},
   "outputs": [],
   "source": []
  },
  {
   "cell_type": "code",
   "execution_count": null,
   "id": "be8869b6-4428-4584-9248-c4c26b55e5b1",
   "metadata": {},
   "outputs": [],
   "source": []
  },
  {
   "cell_type": "code",
   "execution_count": null,
   "id": "e0902a4a-f1ce-4ec9-8eee-47a53c385fd3",
   "metadata": {},
   "outputs": [],
   "source": []
  },
  {
   "cell_type": "code",
   "execution_count": null,
   "id": "dc066aa0-e771-4e9c-85b5-1549e67451c0",
   "metadata": {},
   "outputs": [],
   "source": []
  }
 ],
 "metadata": {
  "kernelspec": {
   "display_name": "Python 3 (ipykernel)",
   "language": "python",
   "name": "python3"
  },
  "language_info": {
   "codemirror_mode": {
    "name": "ipython",
    "version": 3
   },
   "file_extension": ".py",
   "mimetype": "text/x-python",
   "name": "python",
   "nbconvert_exporter": "python",
   "pygments_lexer": "ipython3",
   "version": "3.11.8"
  }
 },
 "nbformat": 4,
 "nbformat_minor": 5
}
